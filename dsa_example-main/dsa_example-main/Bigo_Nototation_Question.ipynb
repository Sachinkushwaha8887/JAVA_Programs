{
 "cells": [
  {
   "cell_type": "code",
   "execution_count": 1,
   "id": "cf72ee73",
   "metadata": {},
   "outputs": [],
   "source": [
    "#Question1"
   ]
  },
  {
   "cell_type": "code",
   "execution_count": 3,
   "id": "34ad3795",
   "metadata": {},
   "outputs": [],
   "source": [
    "def foo(array):\n",
    "    sum = 0\n",
    "    product = 1\n",
    "    for i in array:\n",
    "        sum += i\n",
    "    for i in array:\n",
    "        product *= i\n",
    "    print(\"Sum = \"+str(sum)+\", Product = \"+str(product))\n",
    "\n",
    "ar1 = [1,2,3,4]"
   ]
  },
  {
   "cell_type": "code",
   "execution_count": 5,
   "id": "d298b80c",
   "metadata": {},
   "outputs": [],
   "source": [
    "#%prun foo(ar1)"
   ]
  },
  {
   "cell_type": "code",
   "execution_count": 6,
   "id": "9469debc",
   "metadata": {},
   "outputs": [],
   "source": [
    "#Question2\n",
    "\n",
    "def printPairs(array):\n",
    "    for i in array:\n",
    "        for j in array:\n",
    "            print(str(i)+\",\"+str(j))\n"
   ]
  },
  {
   "cell_type": "code",
   "execution_count": 7,
   "id": "370f1ac0",
   "metadata": {},
   "outputs": [],
   "source": [
    "#Question3\n",
    "def printUnorderedPairs(array):\n",
    "    for i in range(0,len(array)):\n",
    "        for j in range(i+1,len(array)):\n",
    "            print(array[i] + \",\" + array[j])"
   ]
  },
  {
   "cell_type": "code",
   "execution_count": 8,
   "id": "7d3eeb46",
   "metadata": {},
   "outputs": [],
   "source": [
    "#Question4\n",
    "def printUnorderedPairs(arrayA, arrayB):\n",
    "    for i in range(len(arrayA)):\n",
    "        for j in range(len(arrayB)):\n",
    "            if arrayA[i] < arrayB[j]:\n",
    "                print(str(arrayA[i]) + \",\" + str(arrayB[j]))\n",
    "\n",
    "arrayA = [1,2,3,4,5]\n",
    "arrayB = [2,6,7,8]\n"
   ]
  },
  {
   "cell_type": "code",
   "execution_count": 9,
   "id": "bcc44c9e",
   "metadata": {},
   "outputs": [],
   "source": [
    "#Question5\n",
    "def printUnorderedPairs(arrayA, arrayB):\n",
    "    for i in range(len(arrayA)):\n",
    "        for j in range(len(arrayB)):\n",
    "            for k in range(0,100000):\n",
    "                print(str(arrayA[i]) + \",\" + str(arrayB[j]))\n",
    "\n",
    "# printUnorderedPairss(arrayA,arrayB)"
   ]
  },
  {
   "cell_type": "code",
   "execution_count": 10,
   "id": "9312fd0c",
   "metadata": {},
   "outputs": [
    {
     "name": "stdout",
     "output_type": "stream",
     "text": [
      "[5, 4, 3, 2, 1]\n"
     ]
    }
   ],
   "source": [
    "#Question6\n",
    "def reverse(array):\n",
    "    for i in range(0,int(len(array)/2)):\n",
    "        other = len(array)-i-1\n",
    "        temp = array[i]\n",
    "        array[i] = array[other]\n",
    "        array[other] = temp\n",
    "    print(array)\n",
    "\n",
    "reverse(arrayA)"
   ]
  },
  {
   "cell_type": "code",
   "execution_count": 11,
   "id": "331f6eed",
   "metadata": {},
   "outputs": [
    {
     "name": "stdout",
     "output_type": "stream",
     "text": [
      "6\n"
     ]
    }
   ],
   "source": [
    "#Question8\n",
    "\n",
    "def factorial(n):\n",
    "    if n < 0:\n",
    "        return -1\n",
    "    elif n == 0:\n",
    "        return 1\n",
    "    else:\n",
    "        return n * factorial(n-1)\n",
    "\n",
    "print(factorial(3))"
   ]
  },
  {
   "cell_type": "code",
   "execution_count": 2,
   "id": "c3138f64",
   "metadata": {},
   "outputs": [],
   "source": [
    "#Question9\n",
    "def allFib(n):\n",
    "    for i in range(n):\n",
    "        print(str(i)+\":, \" + str(fib(i)))\n",
    "\n",
    "def fib(n):\n",
    "    if n <= 0:\n",
    "        return 0\n",
    "    elif n == 1:\n",
    "        return 1\n",
    "    return fib(n-1) + fib(n-2)\n",
    "\n",
    "\n",
    "#allFib(4)"
   ]
  },
  {
   "cell_type": "code",
   "execution_count": 3,
   "id": "27d73754",
   "metadata": {},
   "outputs": [
    {
     "name": "stdout",
     "output_type": "stream",
     "text": [
      "0:, 0\n",
      "1:, 1\n",
      "2:, 1\n",
      "3:, 2\n",
      " "
     ]
    }
   ],
   "source": [
    "%prun allFib(4)"
   ]
  },
  {
   "cell_type": "code",
   "execution_count": 16,
   "id": "a4da360b",
   "metadata": {},
   "outputs": [],
   "source": [
    "#Question10\n",
    "def powersOf2(n):\n",
    "    # print(\"n:\"+str(n))\n",
    "    if n < 1:\n",
    "        return 0\n",
    "    elif n == 1:\n",
    "        print(1)\n",
    "        return 1\n",
    "    else:\n",
    "        prev = powersOf2(int(n/2))\n",
    "        # print(\"prev:\"+str(prev))\n",
    "        print(prev)\n",
    "        curr = prev*2\n",
    "        print(curr)\n",
    "        return curr\n",
    "\n",
    "#powersOf2(50)"
   ]
  },
  {
   "cell_type": "code",
   "execution_count": null,
   "id": "2411d61f",
   "metadata": {},
   "outputs": [],
   "source": []
  }
 ],
 "metadata": {
  "kernelspec": {
   "display_name": "Python 3 (ipykernel)",
   "language": "python",
   "name": "python3"
  },
  "language_info": {
   "codemirror_mode": {
    "name": "ipython",
    "version": 3
   },
   "file_extension": ".py",
   "mimetype": "text/x-python",
   "name": "python",
   "nbconvert_exporter": "python",
   "pygments_lexer": "ipython3",
   "version": "3.9.12"
  }
 },
 "nbformat": 4,
 "nbformat_minor": 5
}
