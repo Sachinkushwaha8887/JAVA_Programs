{
 "cells": [
  {
   "cell_type": "markdown",
   "id": "67f00ec4",
   "metadata": {},
   "source": [
    "### node"
   ]
  },
  {
   "cell_type": "code",
   "execution_count": 22,
   "id": "45db86ba",
   "metadata": {},
   "outputs": [],
   "source": [
    "class MyNode:\n",
    "    def __init__(self,data=None,addr=None):\n",
    "        self.data=data\n",
    "        self.addr=addr\n",
    "class LinkList:\n",
    "    def __init__(self):\n",
    "        self.head=None\n",
    "    def insert_ops(self,data):\n",
    "        firstNode=MyNode(data)\n",
    "        if(self.head):\n",
    "            current=self.head\n",
    "            while(current.addr):\n",
    "                current=current.addr\n",
    "            current.addr=firstNode\n",
    "        else:\n",
    "            self.head=firstNode\n",
    "    def display_ll(self):\n",
    "        current=self.head\n",
    "        while(current):\n",
    "            print(current.data)\n",
    "            #print(current.addr)\n",
    "            current=current.addr\n",
    "        \n",
    "            "
   ]
  },
  {
   "cell_type": "code",
   "execution_count": 25,
   "id": "5606873f",
   "metadata": {},
   "outputs": [],
   "source": [
    "obj_ll=LinkList()\n",
    "obj_ll.insert_ops(2)\n",
    "obj_ll.insert_ops(4)\n",
    "obj_ll.insert_ops(5)\n",
    "obj_ll.insert_ops(6)\n",
    "obj_ll.insert_ops(60)"
   ]
  },
  {
   "cell_type": "code",
   "execution_count": 26,
   "id": "a6adf797",
   "metadata": {},
   "outputs": [
    {
     "name": "stdout",
     "output_type": "stream",
     "text": [
      "2\n",
      "4\n",
      "5\n",
      "6\n",
      "60\n"
     ]
    }
   ],
   "source": [
    "obj_ll.display_ll()"
   ]
  },
  {
   "cell_type": "raw",
   "id": "a139fdf3",
   "metadata": {},
   "source": [
    "obj1=MyNode(12)\n",
    "obj2=MyNode(19,2000)"
   ]
  },
  {
   "cell_type": "raw",
   "id": "246ae8db",
   "metadata": {},
   "source": [
    "print(obj1)\n",
    "print(obj2)"
   ]
  },
  {
   "cell_type": "raw",
   "id": "dd858e0f",
   "metadata": {},
   "source": [
    "print(obj1.data)\n",
    "print(obj1.addr)\n",
    "print(obj2.data)\n",
    "print(obj2.addr)"
   ]
  },
  {
   "cell_type": "code",
   "execution_count": null,
   "id": "31f5e1f5",
   "metadata": {},
   "outputs": [],
   "source": []
  }
 ],
 "metadata": {
  "kernelspec": {
   "display_name": "Python 3 (ipykernel)",
   "language": "python",
   "name": "python3"
  },
  "language_info": {
   "codemirror_mode": {
    "name": "ipython",
    "version": 3
   },
   "file_extension": ".py",
   "mimetype": "text/x-python",
   "name": "python",
   "nbconvert_exporter": "python",
   "pygments_lexer": "ipython3",
   "version": "3.10.6"
  }
 },
 "nbformat": 4,
 "nbformat_minor": 5
}
